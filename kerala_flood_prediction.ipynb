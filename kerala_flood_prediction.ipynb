{
 "cells": [
  {
   "cell_type": "code",
   "execution_count": 3,
   "id": "1d027f33-b580-4015-9795-bb7c348496e0",
   "metadata": {},
   "outputs": [],
   "source": [
    "import pandas as pd\n",
    "import numpy as np\n",
    "import matplotlib.pyplot as plt\n",
    "import seaborn as sns\n",
    "from sklearn.model_selection import train_test_split,GridSearchCV\n",
    "from sklearn.preprocessing import LabelEncoder,StandardScaler\n",
    "from sklearn.ensemble import RandomForestClassifier\n",
    "from sklearn.linear_model import LogisticRegression\n",
    "from sklearn.metrics import classification_report,confusion_matrix,accuracy_score\n",
    "from sklearn.model_selection import cross_val_score\n",
    "import joblib"
   ]
  },
  {
   "cell_type": "code",
   "execution_count": 13,
   "id": "eee74413-d68d-4daa-8003-eb1b26603092",
   "metadata": {},
   "outputs": [
    {
     "name": "stdout",
     "output_type": "stream",
     "text": [
      "             district  fatalities  no_of_camps  actual_rainfall_in_mm  \\\n",
      "0  Thiruvananthapuram          11           94                  373.8   \n",
      "1              Kollam           5          168                  644.1   \n",
      "2      Pathanamthitta           3         4352                  764.9   \n",
      "3           Alappuzha          43         2126                  608.2   \n",
      "4            Kottayam          14          788                  619.2   \n",
      "\n",
      "   normal_rainfall_in_mm  no_of_landslides  full_damaged_houses  \n",
      "0                  142.0                 0                  111  \n",
      "1                  258.7                 2                   95  \n",
      "2                  352.7                 8                  741  \n",
      "3                  343.1                 0                 2075  \n",
      "4                  386.0                29                   76  \n"
     ]
    }
   ],
   "source": [
    "df=pd.read_csv('C:/Users/MALAVIKA/Downloads/district_wise_details.csv')\n",
    "print(df.head())"
   ]
  },
  {
   "cell_type": "markdown",
   "id": "0d885cbc-d6ab-4a3c-beb5-11112b7f2402",
   "metadata": {},
   "source": [
    "Explore and understanding data"
   ]
  },
  {
   "cell_type": "code",
   "execution_count": 22,
   "id": "ccaac6ce-874f-4d73-b750-f5528a4ce662",
   "metadata": {},
   "outputs": [
    {
     "name": "stdout",
     "output_type": "stream",
     "text": [
      "<class 'pandas.core.frame.DataFrame'>\n",
      "RangeIndex: 14 entries, 0 to 13\n",
      "Data columns (total 7 columns):\n",
      " #   Column                 Non-Null Count  Dtype  \n",
      "---  ------                 --------------  -----  \n",
      " 0   district               14 non-null     object \n",
      " 1   fatalities             14 non-null     int64  \n",
      " 2   no_of_camps            14 non-null     int64  \n",
      " 3   actual_rainfall_in_mm  14 non-null     float64\n",
      " 4   normal_rainfall_in_mm  14 non-null     float64\n",
      " 5   no_of_landslides       14 non-null     int64  \n",
      " 6   full_damaged_houses    14 non-null     int64  \n",
      "dtypes: float64(2), int64(4), object(1)\n",
      "memory usage: 916.0+ bytes\n",
      "None\n",
      "       fatalities  no_of_camps  actual_rainfall_in_mm  normal_rainfall_in_mm  \\\n",
      "count   14.000000    14.000000              14.000000              14.000000   \n",
      "mean    24.214286   875.214286             773.307143             417.950000   \n",
      "std     23.344176  1201.089709             260.248297             133.874509   \n",
      "min      1.000000     2.000000             373.800000             142.000000   \n",
      "25%      6.000000   165.750000             638.700000             345.500000   \n",
      "50%     15.000000   381.000000             700.000000             398.300000   \n",
      "75%     39.750000  1331.750000             845.600000             520.700000   \n",
      "max     72.000000  4352.000000            1478.900000             636.300000   \n",
      "\n",
      "       no_of_landslides  full_damaged_houses  \n",
      "count         14.000000            14.000000  \n",
      "mean          23.642857           737.071429  \n",
      "std           37.300458           849.385159  \n",
      "min            0.000000             3.000000  \n",
      "25%            0.500000           108.000000  \n",
      "50%           13.000000           557.500000  \n",
      "75%           28.250000          1023.750000  \n",
      "max          143.000000          2889.000000  \n",
      "district                 0\n",
      "fatalities               0\n",
      "no_of_camps              0\n",
      "actual_rainfall_in_mm    0\n",
      "normal_rainfall_in_mm    0\n",
      "no_of_landslides         0\n",
      "full_damaged_houses      0\n",
      "dtype: int64\n"
     ]
    }
   ],
   "source": [
    "print(df.info())\n",
    "print(df.describe())\n",
    "print(df.isnull().sum())   "
   ]
  },
  {
   "cell_type": "code",
   "execution_count": null,
   "id": "6af51aab-5720-4e21-a95b-f8e21e625b6f",
   "metadata": {},
   "outputs": [],
   "source": []
  }
 ],
 "metadata": {
  "kernelspec": {
   "display_name": "Python [conda env:base] *",
   "language": "python",
   "name": "conda-base-py"
  },
  "language_info": {
   "codemirror_mode": {
    "name": "ipython",
    "version": 3
   },
   "file_extension": ".py",
   "mimetype": "text/x-python",
   "name": "python",
   "nbconvert_exporter": "python",
   "pygments_lexer": "ipython3",
   "version": "3.12.7"
  }
 },
 "nbformat": 4,
 "nbformat_minor": 5
}
